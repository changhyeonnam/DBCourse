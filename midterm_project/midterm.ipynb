{
 "cells": [
  {
   "cell_type": "code",
   "execution_count": 2,
   "id": "shared-humanitarian",
   "metadata": {},
   "outputs": [
    {
     "name": "stdout",
     "output_type": "stream",
     "text": [
      "Collecting pymysql\n",
      "  Downloading PyMySQL-1.0.2-py3-none-any.whl (43 kB)\n",
      "\u001b[K     |████████████████████████████████| 43 kB 4.7 MB/s eta 0:00:011\n",
      "\u001b[?25hInstalling collected packages: pymysql\n",
      "Successfully installed pymysql-1.0.2\n",
      "\u001b[33mWARNING: You are using pip version 20.2.3; however, version 22.3 is available.\n",
      "You should consider upgrading via the '/Library/Frameworks/Python.framework/Versions/3.8/bin/python3.8 -m pip install --upgrade pip' command.\u001b[0m\n"
     ]
    }
   ],
   "source": [
    "!pip3 install pymysql"
   ]
  },
  {
   "cell_type": "code",
   "execution_count": 3,
   "id": "upper-information",
   "metadata": {},
   "outputs": [],
   "source": [
    "import pymysql\n",
    "\n",
    "import pandas as pd"
   ]
  },
  {
   "cell_type": "code",
   "execution_count": 5,
   "id": "macro-complement",
   "metadata": {},
   "outputs": [],
   "source": [
    "conn=pymysql.connect(host='localhost',port=int(3306),user='root',passwd='mypassword',db='mydb')"
   ]
  },
  {
   "cell_type": "code",
   "execution_count": 9,
   "id": "treated-accident",
   "metadata": {},
   "outputs": [],
   "source": [
    "booking_df=pd.read_sql_query(\"SELECT * FROM booking \",conn)"
   ]
  },
  {
   "cell_type": "code",
   "execution_count": 10,
   "id": "focused-conservation",
   "metadata": {
    "scrolled": true
   },
   "outputs": [
    {
     "data": {
      "text/html": [
       "<div>\n",
       "<style scoped>\n",
       "    .dataframe tbody tr th:only-of-type {\n",
       "        vertical-align: middle;\n",
       "    }\n",
       "\n",
       "    .dataframe tbody tr th {\n",
       "        vertical-align: top;\n",
       "    }\n",
       "\n",
       "    .dataframe thead th {\n",
       "        text-align: right;\n",
       "    }\n",
       "</style>\n",
       "<table border=\"1\" class=\"dataframe\">\n",
       "  <thead>\n",
       "    <tr style=\"text-align: right;\">\n",
       "      <th></th>\n",
       "      <th>id</th>\n",
       "      <th>booking_ref</th>\n",
       "      <th>Location_dep</th>\n",
       "      <th>Location_arr</th>\n",
       "      <th>Vehicle_id</th>\n",
       "      <th>Driver_id</th>\n",
       "      <th>Official_id</th>\n",
       "      <th>dep_time</th>\n",
       "      <th>arr_time</th>\n",
       "      <th>dep_odo</th>\n",
       "      <th>arr_odo</th>\n",
       "    </tr>\n",
       "  </thead>\n",
       "  <tbody>\n",
       "    <tr>\n",
       "      <th>0</th>\n",
       "      <td>1</td>\n",
       "      <td>23</td>\n",
       "      <td>1</td>\n",
       "      <td>2</td>\n",
       "      <td>1</td>\n",
       "      <td>1</td>\n",
       "      <td>1</td>\n",
       "      <td>2022-10-01 12:30:30</td>\n",
       "      <td>2022-10-01 11:30:30</td>\n",
       "      <td>4400</td>\n",
       "      <td>4350</td>\n",
       "    </tr>\n",
       "    <tr>\n",
       "      <th>1</th>\n",
       "      <td>2</td>\n",
       "      <td>24</td>\n",
       "      <td>2</td>\n",
       "      <td>1</td>\n",
       "      <td>2</td>\n",
       "      <td>2</td>\n",
       "      <td>2</td>\n",
       "      <td>2022-10-01 12:35:30</td>\n",
       "      <td>2022-10-01 10:30:30</td>\n",
       "      <td>2200</td>\n",
       "      <td>2195</td>\n",
       "    </tr>\n",
       "    <tr>\n",
       "      <th>2</th>\n",
       "      <td>3</td>\n",
       "      <td>25</td>\n",
       "      <td>3</td>\n",
       "      <td>2</td>\n",
       "      <td>3</td>\n",
       "      <td>3</td>\n",
       "      <td>3</td>\n",
       "      <td>2022-10-02 12:30:30</td>\n",
       "      <td>2022-10-01 09:30:30</td>\n",
       "      <td>1000</td>\n",
       "      <td>509</td>\n",
       "    </tr>\n",
       "  </tbody>\n",
       "</table>\n",
       "</div>"
      ],
      "text/plain": [
       "   id  booking_ref  Location_dep  Location_arr  Vehicle_id  Driver_id  \\\n",
       "0   1           23             1             2           1          1   \n",
       "1   2           24             2             1           2          2   \n",
       "2   3           25             3             2           3          3   \n",
       "\n",
       "   Official_id            dep_time            arr_time dep_odo arr_odo  \n",
       "0            1 2022-10-01 12:30:30 2022-10-01 11:30:30    4400    4350  \n",
       "1            2 2022-10-01 12:35:30 2022-10-01 10:30:30    2200    2195  \n",
       "2            3 2022-10-02 12:30:30 2022-10-01 09:30:30    1000     509  "
      ]
     },
     "execution_count": 10,
     "metadata": {},
     "output_type": "execute_result"
    }
   ],
   "source": [
    "booking_df"
   ]
  },
  {
   "cell_type": "code",
   "execution_count": 11,
   "id": "herbal-cancellation",
   "metadata": {},
   "outputs": [],
   "source": [
    "driver_df=pd.read_sql_query(\"SELECT * FROM driver \",conn)"
   ]
  },
  {
   "cell_type": "code",
   "execution_count": 13,
   "id": "third-breath",
   "metadata": {},
   "outputs": [
    {
     "data": {
      "text/html": [
       "<div>\n",
       "<style scoped>\n",
       "    .dataframe tbody tr th:only-of-type {\n",
       "        vertical-align: middle;\n",
       "    }\n",
       "\n",
       "    .dataframe tbody tr th {\n",
       "        vertical-align: top;\n",
       "    }\n",
       "\n",
       "    .dataframe thead th {\n",
       "        text-align: right;\n",
       "    }\n",
       "</style>\n",
       "<table border=\"1\" class=\"dataframe\">\n",
       "  <thead>\n",
       "    <tr style=\"text-align: right;\">\n",
       "      <th></th>\n",
       "      <th>id</th>\n",
       "      <th>name</th>\n",
       "      <th>license</th>\n",
       "      <th>security</th>\n",
       "      <th>language</th>\n",
       "      <th>FATL_pass</th>\n",
       "      <th>FATL_level</th>\n",
       "      <th>FATL_date</th>\n",
       "      <th>STLVT_pass</th>\n",
       "      <th>STLVT_level</th>\n",
       "      <th>STLVT_date</th>\n",
       "      <th>STLVT_corp</th>\n",
       "    </tr>\n",
       "  </thead>\n",
       "  <tbody>\n",
       "    <tr>\n",
       "      <th>0</th>\n",
       "      <td>1</td>\n",
       "      <td>Nam</td>\n",
       "      <td>123456789000000000</td>\n",
       "      <td>1</td>\n",
       "      <td>ko</td>\n",
       "      <td>1</td>\n",
       "      <td>3</td>\n",
       "      <td>20220910</td>\n",
       "      <td>1</td>\n",
       "      <td>3</td>\n",
       "      <td>20220910</td>\n",
       "      <td>samsung</td>\n",
       "    </tr>\n",
       "    <tr>\n",
       "      <th>1</th>\n",
       "      <td>2</td>\n",
       "      <td>Lee</td>\n",
       "      <td>123456789000000001</td>\n",
       "      <td>2</td>\n",
       "      <td>ja</td>\n",
       "      <td>1</td>\n",
       "      <td>4</td>\n",
       "      <td>20220910</td>\n",
       "      <td>1</td>\n",
       "      <td>4</td>\n",
       "      <td>20220910</td>\n",
       "      <td>samsung</td>\n",
       "    </tr>\n",
       "    <tr>\n",
       "      <th>2</th>\n",
       "      <td>3</td>\n",
       "      <td>Kim</td>\n",
       "      <td>123456789000000002</td>\n",
       "      <td>3</td>\n",
       "      <td>en</td>\n",
       "      <td>1</td>\n",
       "      <td>5</td>\n",
       "      <td>20220910</td>\n",
       "      <td>1</td>\n",
       "      <td>5</td>\n",
       "      <td>20220910</td>\n",
       "      <td>samsung</td>\n",
       "    </tr>\n",
       "  </tbody>\n",
       "</table>\n",
       "</div>"
      ],
      "text/plain": [
       "   id name             license security language  FATL_pass FATL_level  \\\n",
       "0   1  Nam  123456789000000000        1       ko          1          3   \n",
       "1   2  Lee  123456789000000001        2       ja          1          4   \n",
       "2   3  Kim  123456789000000002        3       en          1          5   \n",
       "\n",
       "  FATL_date STLVT_pass STLVT_level STLVT_date STLVT_corp  \n",
       "0  20220910          1           3   20220910    samsung  \n",
       "1  20220910          1           4   20220910    samsung  \n",
       "2  20220910          1           5   20220910    samsung  "
      ]
     },
     "execution_count": 13,
     "metadata": {},
     "output_type": "execute_result"
    }
   ],
   "source": [
    "driver_df"
   ]
  },
  {
   "cell_type": "code",
   "execution_count": 14,
   "id": "placed-chicken",
   "metadata": {},
   "outputs": [],
   "source": [
    "location_df=pd.read_sql_query(\"SELECT * FROM location \",conn)"
   ]
  },
  {
   "cell_type": "code",
   "execution_count": 16,
   "id": "eleven-albuquerque",
   "metadata": {},
   "outputs": [
    {
     "data": {
      "text/html": [
       "<div>\n",
       "<style scoped>\n",
       "    .dataframe tbody tr th:only-of-type {\n",
       "        vertical-align: middle;\n",
       "    }\n",
       "\n",
       "    .dataframe tbody tr th {\n",
       "        vertical-align: top;\n",
       "    }\n",
       "\n",
       "    .dataframe thead th {\n",
       "        text-align: right;\n",
       "    }\n",
       "</style>\n",
       "<table border=\"1\" class=\"dataframe\">\n",
       "  <thead>\n",
       "    <tr style=\"text-align: right;\">\n",
       "      <th></th>\n",
       "      <th>locid</th>\n",
       "      <th>street</th>\n",
       "      <th>city</th>\n",
       "      <th>type</th>\n",
       "    </tr>\n",
       "  </thead>\n",
       "  <tbody>\n",
       "    <tr>\n",
       "      <th>0</th>\n",
       "      <td>1</td>\n",
       "      <td>563, Wondang-daero, Seo-gu, Incheon\\t</td>\n",
       "      <td>23090770</td>\n",
       "      <td>library</td>\n",
       "    </tr>\n",
       "    <tr>\n",
       "      <th>1</th>\n",
       "      <td>2</td>\n",
       "      <td>8-13, Simgok-ro 100beon-gil, Seo-gu, Incheon</td>\n",
       "      <td>23090590</td>\n",
       "      <td>school</td>\n",
       "    </tr>\n",
       "    <tr>\n",
       "      <th>2</th>\n",
       "      <td>3</td>\n",
       "      <td>131-24, Chamoejeon-ro, Jung-gu, Incheon</td>\n",
       "      <td>23310380</td>\n",
       "      <td>church</td>\n",
       "    </tr>\n",
       "  </tbody>\n",
       "</table>\n",
       "</div>"
      ],
      "text/plain": [
       "   locid                                        street      city     type\n",
       "0      1         563, Wondang-daero, Seo-gu, Incheon\\t  23090770  library\n",
       "1      2  8-13, Simgok-ro 100beon-gil, Seo-gu, Incheon  23090590   school\n",
       "2      3       131-24, Chamoejeon-ro, Jung-gu, Incheon  23310380   church"
      ]
     },
     "execution_count": 16,
     "metadata": {},
     "output_type": "execute_result"
    }
   ],
   "source": [
    "location_df"
   ]
  },
  {
   "cell_type": "code",
   "execution_count": 17,
   "id": "broad-surfing",
   "metadata": {},
   "outputs": [],
   "source": [
    "official_df=pd.read_sql_query(\"SELECT * FROM official \",conn)"
   ]
  },
  {
   "cell_type": "code",
   "execution_count": 18,
   "id": "returning-money",
   "metadata": {},
   "outputs": [
    {
     "data": {
      "text/html": [
       "<div>\n",
       "<style scoped>\n",
       "    .dataframe tbody tr th:only-of-type {\n",
       "        vertical-align: middle;\n",
       "    }\n",
       "\n",
       "    .dataframe tbody tr th {\n",
       "        vertical-align: top;\n",
       "    }\n",
       "\n",
       "    .dataframe thead th {\n",
       "        text-align: right;\n",
       "    }\n",
       "</style>\n",
       "<table border=\"1\" class=\"dataframe\">\n",
       "  <thead>\n",
       "    <tr style=\"text-align: right;\">\n",
       "      <th></th>\n",
       "      <th>id</th>\n",
       "      <th>country</th>\n",
       "      <th>language</th>\n",
       "      <th>role</th>\n",
       "      <th>city</th>\n",
       "      <th>name</th>\n",
       "    </tr>\n",
       "  </thead>\n",
       "  <tbody>\n",
       "    <tr>\n",
       "      <th>0</th>\n",
       "      <td>1</td>\n",
       "      <td>KR</td>\n",
       "      <td>ko</td>\n",
       "      <td>coach</td>\n",
       "      <td>23090770</td>\n",
       "      <td>Kim</td>\n",
       "    </tr>\n",
       "    <tr>\n",
       "      <th>1</th>\n",
       "      <td>2</td>\n",
       "      <td>JP</td>\n",
       "      <td>ja</td>\n",
       "      <td>judge</td>\n",
       "      <td>23310360</td>\n",
       "      <td>Nakamura</td>\n",
       "    </tr>\n",
       "    <tr>\n",
       "      <th>2</th>\n",
       "      <td>3</td>\n",
       "      <td>US</td>\n",
       "      <td>en</td>\n",
       "      <td>coach</td>\n",
       "      <td>23310110</td>\n",
       "      <td>Haword</td>\n",
       "    </tr>\n",
       "  </tbody>\n",
       "</table>\n",
       "</div>"
      ],
      "text/plain": [
       "   id country language   role      city      name\n",
       "0   1      KR       ko  coach  23090770       Kim\n",
       "1   2      JP       ja  judge  23310360  Nakamura\n",
       "2   3      US       en  coach  23310110    Haword"
      ]
     },
     "execution_count": 18,
     "metadata": {},
     "output_type": "execute_result"
    }
   ],
   "source": [
    "official_df"
   ]
  },
  {
   "cell_type": "code",
   "execution_count": 23,
   "id": "hungarian-disaster",
   "metadata": {},
   "outputs": [],
   "source": [
    "vehicle_df=pd.read_sql_query(\"SELECT * FROM vehicle \",conn)"
   ]
  },
  {
   "cell_type": "code",
   "execution_count": 24,
   "id": "impressive-repair",
   "metadata": {},
   "outputs": [
    {
     "data": {
      "text/html": [
       "<div>\n",
       "<style scoped>\n",
       "    .dataframe tbody tr th:only-of-type {\n",
       "        vertical-align: middle;\n",
       "    }\n",
       "\n",
       "    .dataframe tbody tr th {\n",
       "        vertical-align: top;\n",
       "    }\n",
       "\n",
       "    .dataframe thead th {\n",
       "        text-align: right;\n",
       "    }\n",
       "</style>\n",
       "<table border=\"1\" class=\"dataframe\">\n",
       "  <thead>\n",
       "    <tr style=\"text-align: right;\">\n",
       "      <th></th>\n",
       "      <th>id</th>\n",
       "      <th>action_type</th>\n",
       "      <th>odometer</th>\n",
       "      <th>finalcost</th>\n",
       "      <th>description</th>\n",
       "      <th>date</th>\n",
       "    </tr>\n",
       "  </thead>\n",
       "  <tbody>\n",
       "    <tr>\n",
       "      <th>0</th>\n",
       "      <td>1</td>\n",
       "      <td>R</td>\n",
       "      <td>4350</td>\n",
       "      <td>3000</td>\n",
       "      <td>wheel repaired</td>\n",
       "      <td>20220809</td>\n",
       "    </tr>\n",
       "    <tr>\n",
       "      <th>1</th>\n",
       "      <td>2</td>\n",
       "      <td>M</td>\n",
       "      <td>2195</td>\n",
       "      <td>3000</td>\n",
       "      <td>wheel pressure</td>\n",
       "      <td>20220810</td>\n",
       "    </tr>\n",
       "    <tr>\n",
       "      <th>2</th>\n",
       "      <td>3</td>\n",
       "      <td>R</td>\n",
       "      <td>509</td>\n",
       "      <td>4000</td>\n",
       "      <td>break</td>\n",
       "      <td>20220811</td>\n",
       "    </tr>\n",
       "  </tbody>\n",
       "</table>\n",
       "</div>"
      ],
      "text/plain": [
       "   id action_type odometer finalcost     description      date\n",
       "0   1           R     4350      3000  wheel repaired  20220809\n",
       "1   2           M     2195      3000  wheel pressure  20220810\n",
       "2   3           R      509      4000           break  20220811"
      ]
     },
     "execution_count": 24,
     "metadata": {},
     "output_type": "execute_result"
    }
   ],
   "source": [
    "vehicle_df"
   ]
  },
  {
   "cell_type": "code",
   "execution_count": 25,
   "id": "general-blanket",
   "metadata": {},
   "outputs": [],
   "source": [
    "vehicle_info_df=pd.read_sql_query(\"SELECT * FROM vehicle_info\",conn)"
   ]
  },
  {
   "cell_type": "code",
   "execution_count": 26,
   "id": "postal-rebound",
   "metadata": {},
   "outputs": [
    {
     "data": {
      "text/html": [
       "<div>\n",
       "<style scoped>\n",
       "    .dataframe tbody tr th:only-of-type {\n",
       "        vertical-align: middle;\n",
       "    }\n",
       "\n",
       "    .dataframe tbody tr th {\n",
       "        vertical-align: top;\n",
       "    }\n",
       "\n",
       "    .dataframe thead th {\n",
       "        text-align: right;\n",
       "    }\n",
       "</style>\n",
       "<table border=\"1\" class=\"dataframe\">\n",
       "  <thead>\n",
       "    <tr style=\"text-align: right;\">\n",
       "      <th></th>\n",
       "      <th>Vehicle_id</th>\n",
       "      <th>regid</th>\n",
       "      <th>manufac</th>\n",
       "      <th>model</th>\n",
       "      <th>color</th>\n",
       "      <th>current_odo</th>\n",
       "      <th>capacity</th>\n",
       "    </tr>\n",
       "  </thead>\n",
       "  <tbody>\n",
       "    <tr>\n",
       "      <th>0</th>\n",
       "      <td>1</td>\n",
       "      <td>2001ABC</td>\n",
       "      <td>Volvo</td>\n",
       "      <td>XC90SE</td>\n",
       "      <td>Silver</td>\n",
       "      <td>4350</td>\n",
       "      <td>4</td>\n",
       "    </tr>\n",
       "    <tr>\n",
       "      <th>1</th>\n",
       "      <td>2</td>\n",
       "      <td>2006AFD</td>\n",
       "      <td>Kia</td>\n",
       "      <td>K7</td>\n",
       "      <td>Black</td>\n",
       "      <td>2195</td>\n",
       "      <td>4</td>\n",
       "    </tr>\n",
       "    <tr>\n",
       "      <th>2</th>\n",
       "      <td>3</td>\n",
       "      <td>2021AHR</td>\n",
       "      <td>Tesla</td>\n",
       "      <td>2020F</td>\n",
       "      <td>White</td>\n",
       "      <td>509</td>\n",
       "      <td>2</td>\n",
       "    </tr>\n",
       "  </tbody>\n",
       "</table>\n",
       "</div>"
      ],
      "text/plain": [
       "   Vehicle_id    regid manufac   model   color current_odo capacity\n",
       "0           1  2001ABC   Volvo  XC90SE  Silver        4350        4\n",
       "1           2  2006AFD     Kia      K7   Black        2195        4\n",
       "2           3  2021AHR   Tesla   2020F   White         509        2"
      ]
     },
     "execution_count": 26,
     "metadata": {},
     "output_type": "execute_result"
    }
   ],
   "source": [
    "vehicle_info_df"
   ]
  },
  {
   "cell_type": "code",
   "execution_count": 27,
   "id": "hearing-airport",
   "metadata": {},
   "outputs": [],
   "source": [
    "location_df=pd.read_sql_query(\"SELECT * FROM location\",conn)"
   ]
  },
  {
   "cell_type": "code",
   "execution_count": 28,
   "id": "fifty-mission",
   "metadata": {},
   "outputs": [
    {
     "data": {
      "text/html": [
       "<div>\n",
       "<style scoped>\n",
       "    .dataframe tbody tr th:only-of-type {\n",
       "        vertical-align: middle;\n",
       "    }\n",
       "\n",
       "    .dataframe tbody tr th {\n",
       "        vertical-align: top;\n",
       "    }\n",
       "\n",
       "    .dataframe thead th {\n",
       "        text-align: right;\n",
       "    }\n",
       "</style>\n",
       "<table border=\"1\" class=\"dataframe\">\n",
       "  <thead>\n",
       "    <tr style=\"text-align: right;\">\n",
       "      <th></th>\n",
       "      <th>locid</th>\n",
       "      <th>street</th>\n",
       "      <th>city</th>\n",
       "      <th>type</th>\n",
       "    </tr>\n",
       "  </thead>\n",
       "  <tbody>\n",
       "    <tr>\n",
       "      <th>0</th>\n",
       "      <td>1</td>\n",
       "      <td>563, Wondang-daero, Seo-gu, Incheon\\t</td>\n",
       "      <td>23090770</td>\n",
       "      <td>library</td>\n",
       "    </tr>\n",
       "    <tr>\n",
       "      <th>1</th>\n",
       "      <td>2</td>\n",
       "      <td>8-13, Simgok-ro 100beon-gil, Seo-gu, Incheon</td>\n",
       "      <td>23090590</td>\n",
       "      <td>school</td>\n",
       "    </tr>\n",
       "    <tr>\n",
       "      <th>2</th>\n",
       "      <td>3</td>\n",
       "      <td>131-24, Chamoejeon-ro, Jung-gu, Incheon</td>\n",
       "      <td>23310380</td>\n",
       "      <td>church</td>\n",
       "    </tr>\n",
       "  </tbody>\n",
       "</table>\n",
       "</div>"
      ],
      "text/plain": [
       "   locid                                        street      city     type\n",
       "0      1         563, Wondang-daero, Seo-gu, Incheon\\t  23090770  library\n",
       "1      2  8-13, Simgok-ro 100beon-gil, Seo-gu, Incheon  23090590   school\n",
       "2      3       131-24, Chamoejeon-ro, Jung-gu, Incheon  23310380   church"
      ]
     },
     "execution_count": 28,
     "metadata": {},
     "output_type": "execute_result"
    }
   ],
   "source": [
    "location_df"
   ]
  },
  {
   "cell_type": "code",
   "execution_count": null,
   "id": "lyric-playlist",
   "metadata": {},
   "outputs": [],
   "source": []
  }
 ],
 "metadata": {
  "kernelspec": {
   "display_name": "Python 3",
   "language": "python",
   "name": "python3"
  },
  "language_info": {
   "codemirror_mode": {
    "name": "ipython",
    "version": 3
   },
   "file_extension": ".py",
   "mimetype": "text/x-python",
   "name": "python",
   "nbconvert_exporter": "python",
   "pygments_lexer": "ipython3",
   "version": "3.8.7"
  }
 },
 "nbformat": 4,
 "nbformat_minor": 5
}
